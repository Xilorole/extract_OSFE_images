{
 "cells": [
  {
   "cell_type": "code",
   "execution_count": 8,
   "metadata": {},
   "outputs": [],
   "source": [
    "import os\n",
    "from PIL import Image\n",
    "import numpy as np\n",
    "from collections import Counter\n",
    "from pathlib import Path\n",
    "from tqdm import tqdm"
   ]
  },
  {
   "cell_type": "code",
   "execution_count": 2,
   "metadata": {},
   "outputs": [
    {
     "data": {
      "text/plain": [
       "['Screen Shot 2020-04-04 at 12.33.02.png',\n",
       " '.DS_Store',\n",
       " 'Screen Shot 2020-04-04 at 12.32.57.png',\n",
       " 'Screen Shot 2020-04-04 at 12.33.56.png',\n",
       " '.ipynb_checkpoints',\n",
       " '画像の枠を検出してカードの部分を抜き出す.ipynb']"
      ]
     },
     "execution_count": 2,
     "metadata": {},
     "output_type": "execute_result"
    }
   ],
   "source": [
    "os.listdir()"
   ]
  },
  {
   "cell_type": "code",
   "execution_count": 3,
   "metadata": {},
   "outputs": [],
   "source": [
    "cards_path = Path(\"cards\")\n",
    "cards_path.mkdir(exist_ok=True)"
   ]
  },
  {
   "cell_type": "code",
   "execution_count": 9,
   "metadata": {},
   "outputs": [
    {
     "name": "stderr",
     "output_type": "stream",
     "text": [
      "3it [00:00,  3.82it/s]\n"
     ]
    }
   ],
   "source": [
    "for jj , filename in tqdm(enumerate(Path(\".\").glob(\"Screen*.png\"))): #スクリーンショット\n",
    "    im = np.array(Image.open(filename))\n",
    "    st = np.vstack([im[0],im[-1],im[:,0],im[:,-1]])\n",
    "    c = Counter([tuple (i) for i in  st.tolist()])\n",
    "    val  = c.most_common()[0][0]\n",
    "    \n",
    "    H,W,_ = im.shape\n",
    "    h_diff = [np.sum(np.abs(np.mean(im[h],axis=0) - val)) for h in range(H)]\n",
    "    w_diff = [np.sum(np.abs(np.mean(im[:,w],axis=0) - val)) for w in range(W)]\n",
    "    \n",
    "    # 左から探索\n",
    "    for idx,dw in enumerate(w_diff):\n",
    "        if dw > 1:\n",
    "            break\n",
    "    l = idx\n",
    "    \n",
    "    # 上から探索\n",
    "    for idx,dh in enumerate(h_diff):\n",
    "        if dh > 10:\n",
    "            break\n",
    "    t = idx\n",
    "    \n",
    "    im_RGB = im[t+1:t+628,l+1:l+435]\n",
    "    \n",
    "    pil_img = Image.fromarray(im_RGB)\n",
    "    pil_img.save(f'cards/{jj:03d}.png')"
   ]
  },
  {
   "cell_type": "markdown",
   "metadata": {},
   "source": [
    "# アイコンの切り出し"
   ]
  },
  {
   "cell_type": "code",
   "execution_count": 5,
   "metadata": {},
   "outputs": [],
   "source": [
    "icon_path = Path(\"icon\")\n",
    "icon_path.mkdir(exist_ok=True)"
   ]
  },
  {
   "cell_type": "code",
   "execution_count": 10,
   "metadata": {},
   "outputs": [
    {
     "name": "stderr",
     "output_type": "stream",
     "text": [
      "3it [00:00, 18.72it/s]\n"
     ]
    }
   ],
   "source": [
    "for jj , filename in tqdm(enumerate(cards_path.glob(\"*.png\"))):\n",
    "    im = np.array(Image.open(filename))\n",
    "    \n",
    "    stx,sty = 216,200\n",
    "    d = 103\n",
    "    im_RGB = im[sty-d:sty+d,stx-d:stx+d]\n",
    "\n",
    "    pil_img = Image.fromarray(im_RGB)\n",
    "    pil_img.save(icon_path/f'icon_{filename.name}')\n",
    "\n",
    "    # break"
   ]
  },
  {
   "cell_type": "code",
   "execution_count": null,
   "metadata": {},
   "outputs": [],
   "source": []
  }
 ],
 "metadata": {
  "kernelspec": {
   "display_name": "Python 3",
   "language": "python",
   "name": "python3"
  },
  "language_info": {
   "codemirror_mode": {
    "name": "ipython",
    "version": 3
   },
   "file_extension": ".py",
   "mimetype": "text/x-python",
   "name": "python",
   "nbconvert_exporter": "python",
   "pygments_lexer": "ipython3",
   "version": "3.7.7"
  }
 },
 "nbformat": 4,
 "nbformat_minor": 2
}
