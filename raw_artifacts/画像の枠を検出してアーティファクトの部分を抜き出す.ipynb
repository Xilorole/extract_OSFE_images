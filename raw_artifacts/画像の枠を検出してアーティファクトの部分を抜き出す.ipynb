{
 "cells": [
  {
   "cell_type": "code",
   "execution_count": 3,
   "metadata": {},
   "outputs": [],
   "source": [
    "import os"
   ]
  },
  {
   "cell_type": "code",
   "execution_count": 4,
   "metadata": {},
   "outputs": [
    {
     "output_type": "execute_result",
     "data": {
      "text/plain": [
       "['画像の枠を検出してアーティファクトの部分を抜き出す.ipynb',\n",
       " '.DS_Store',\n",
       " 'Screen Shot 2020-04-04 at 17.04.35.png',\n",
       " '.ipynb_checkpoints',\n",
       " 'Screen Shot 2020-04-04 at 17.04.42.png',\n",
       " 'Screen Shot 2020-04-04 at 17.04.47.png']"
      ]
     },
     "metadata": {},
     "execution_count": 4
    }
   ],
   "source": [
    "os.listdir()"
   ]
  },
  {
   "cell_type": "code",
   "execution_count": 10,
   "metadata": {},
   "outputs": [],
   "source": [
    "from PIL import Image\n",
    "import numpy as np\n",
    "from collections import Counter\n",
    "from pathlib import Path\n",
    "from tqdm import tqdm\n",
    "artifact_dir = Path(\"artifacts\")\n",
    "artifact_dir.mkdir(exist_ok=True)"
   ]
  },
  {
   "cell_type": "code",
   "execution_count": 11,
   "metadata": {},
   "outputs": [
    {
     "output_type": "stream",
     "name": "stderr",
     "text": [
      "3it [00:00,  5.85it/s]\n"
     ]
    }
   ],
   "source": [
    "for jj , filename in tqdm(enumerate(Path(\".\").glob(\"Screen*.png\"))):\n",
    "    im = np.array(Image.open(filename))\n",
    "    st = np.vstack([im[0],im[-1],im[:,0],im[:,-1]])\n",
    "    c = Counter([tuple (i) for i in  st.tolist()])\n",
    "    val  = c.most_common()[0][0]\n",
    "    \n",
    "    H,W,_ = im.shape\n",
    "    h_diff = [np.sum(np.abs(np.mean(im[h],axis=0) - val)) for h in range(H)]\n",
    "    w_diff = [np.sum(np.abs(np.mean(im[:,w],axis=0) - val)) for w in range(W)]\n",
    "    \n",
    "    # 左から探索\n",
    "    for idx,dw in enumerate(w_diff):\n",
    "        if dw > 1:\n",
    "            break\n",
    "    l = idx\n",
    "    \n",
    "    # 上から探索\n",
    "    for idx,dh in enumerate(h_diff):\n",
    "        if dh > 10:\n",
    "            break\n",
    "    t = idx\n",
    "    d = 434\n",
    "    im_RGB = im[t+1:t+431,l+1:l+434]\n",
    "    \n",
    "    pil_img = Image.fromarray(im_RGB)\n",
    "    pil_img.save(artifact_dir/f'{jj:03d}.png')\n",
    "    \n",
    "    # break"
   ]
  },
  {
   "cell_type": "code",
   "execution_count": 12,
   "metadata": {},
   "outputs": [],
   "source": [
    "icon_artifact_dir = Path(\"icon\")\n",
    "icon_artifact_dir.mkdir(exist_ok=True)"
   ]
  },
  {
   "cell_type": "code",
   "execution_count": 16,
   "metadata": {},
   "outputs": [
    {
     "output_type": "stream",
     "name": "stderr",
     "text": [
      "3it [00:00, 31.22it/s]\n"
     ]
    }
   ],
   "source": [
    "for jj , filename in tqdm(enumerate(artifact_dir.glob(\"*.png\"))):\n",
    "    im = np.array(Image.open(filename))\n",
    "    \n",
    "    l = 7\n",
    "    t = 7\n",
    "    im_RGB = im[t+1:t+165,l+1:l+167]\n",
    "    \n",
    "    pil_img = Image.fromarray(im_RGB)\n",
    "    pil_img.save(icon_artifact_dir/ f'icon_{filename.name}')\n",
    "    \n",
    "    # break"
   ]
  },
  {
   "cell_type": "code",
   "execution_count": null,
   "metadata": {},
   "outputs": [],
   "source": []
  }
 ],
 "metadata": {
  "kernelspec": {
   "display_name": "Python 3",
   "language": "python",
   "name": "python3"
  },
  "language_info": {
   "codemirror_mode": {
    "name": "ipython",
    "version": 3
   },
   "file_extension": ".py",
   "mimetype": "text/x-python",
   "name": "python",
   "nbconvert_exporter": "python",
   "pygments_lexer": "ipython3",
   "version": "3.7.7-final"
  }
 },
 "nbformat": 4,
 "nbformat_minor": 2
}